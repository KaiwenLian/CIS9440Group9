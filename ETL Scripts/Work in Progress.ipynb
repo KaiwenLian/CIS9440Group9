{
 "cells": [
  {
   "cell_type": "markdown",
   "metadata": {},
   "source": [
    "## topstartups.io"
   ]
  },
  {
   "cell_type": "code",
   "execution_count": 5,
   "metadata": {},
   "outputs": [
    {
     "name": "stderr",
     "output_type": "stream",
     "text": [
      "100%|██████████| 2287/2287 [00:00<00:00, 50725.39it/s]"
     ]
    },
    {
     "name": "stdout",
     "output_type": "stream",
     "text": [
      "                          job_title                location         salary  \\\n",
      "0  Senior machine learning engineer               Remote US  $210,000+$20K   \n",
      "1                Director of BizOps           New York City       $310,000   \n",
      "2                    Chief of Staff  San Francisco Bay Area       $168,000   \n",
      "3               Director of Product                  London       $215,500   \n",
      "4                   Head of Product               Remote US        $60,000   \n",
      "5             Lead backend engineer               Remote US       $210,000   \n",
      "6                  Product designer           New York City       $140,000   \n",
      "7                 Software engineer               Remote US       $185,000   \n",
      "8                 Software engineer               Remote US       $215,000   \n",
      "9                 Software engineer             Los Angeles       $190,000   \n",
      "\n",
      "       num_employees     date  \n",
      "0     1-10 employees  2024/03  \n",
      "1  201-500 employees  2024/03  \n",
      "2     1-10 employees  2024/03  \n",
      "3   51-100 employees  2024/03  \n",
      "4     1-10 employees  2024/03  \n",
      "5    11-50 employees  2024/03  \n",
      "6    11-50 employees  2024/03  \n",
      "7    11-50 employees  2024/03  \n",
      "8     1-10 employees  2024/03  \n",
      "9    11-50 employees  2024/03  \n"
     ]
    },
    {
     "name": "stderr",
     "output_type": "stream",
     "text": [
      "\n"
     ]
    }
   ],
   "source": [
    "import requests\n",
    "from bs4 import BeautifulSoup\n",
    "import pandas as pd\n",
    "from tqdm import tqdm\n",
    "\n",
    "url = 'https://topstartups.io/startup-salary-equity-database/'\n",
    "response = requests.get(url)\n",
    "soup = BeautifulSoup(response.text, 'html.parser')\n",
    "\n",
    "data_rows = []  # Initialize an empty list to hold the data\n",
    "\n",
    "# Assuming the data is in a table, find the container (e.g., tbody, table)\n",
    "container = soup.find('table')  # Modify this according to the actual structure\n",
    "\n",
    "for row in tqdm(container.find_all('tr')):\n",
    "    cells = row.find_all('td')\n",
    "    if len(cells) >= 7:  # Assuming you need at least 7 cells for Job Title, Location, Date, and Salary\n",
    "        job_title = cells[0].text.strip()\n",
    "        location = cells[6].text.strip()\n",
    "        date = cells[-1].text.strip()\n",
    "        salary = cells[1].text.strip()\n",
    "        num_employees = cells[10].text.strip()\n",
    "        data_rows.append({'job_title': job_title, 'location': location, 'salary': salary ,\"num_employees\":num_employees,'date': date})\n",
    "\n",
    "# Convert the list of dictionaries to a DataFrame\n",
    "startups_df = pd.DataFrame(data_rows)\n",
    "\n",
    "print(startups_df.head(10))\n",
    "\n",
    "#startups_df.to_csv(\"startups.csv\", index=False)"
   ]
  },
  {
   "cell_type": "markdown",
   "metadata": {},
   "source": [
    "## efinancialcareers"
   ]
  },
  {
   "cell_type": "code",
   "execution_count": 4,
   "metadata": {},
   "outputs": [
    {
     "name": "stdout",
     "output_type": "stream",
     "text": [
      "                                             job_title      location  \\\n",
      "0    Internal Audit Director, Quality Assurance Tea...    Pittsburgh   \n",
      "1    Senior Director, Senior Managing Counsel – Gov...    Pittsburgh   \n",
      "2    Senior UX/UI Design Consultant - Fintech- Full...      New York   \n",
      "3             Technical Architect - Greenfield Fintech      New York   \n",
      "4           Senior Product Design Strategist - Fintech      New York   \n",
      "..                                                 ...           ...   \n",
      "895  Technical Account Manager - Alternative Invest...      New York   \n",
      "896                   Investment Operations Specialist  Jacksonville   \n",
      "897                High Yield, Trader - Vice President      New York   \n",
      "898          Investment Grade Credit Trader - Director      New York   \n",
      "899                            Trader - Vice President      New York   \n",
      "\n",
      "                                                salary employmentType  \\\n",
      "0                                          Competitive      Full time   \n",
      "1                                        $180k - $300k      Full time   \n",
      "2                                          Competitive      Full time   \n",
      "3                                          Competitive      Full time   \n",
      "4                                          Competitive      Full time   \n",
      "..                                                 ...            ...   \n",
      "895                                        Competitive      Full time   \n",
      "896                                        Competitive      Full time   \n",
      "897  salary range for this position in New York Cit...      Full time   \n",
      "898  salary range for this position in New York Cit...      Full time   \n",
      "899  salary range for this position in New York Cit...      Full time   \n",
      "\n",
      "                         date  \n",
      "0    2024-03-24T16:20:00.107Z  \n",
      "1    2024-03-24T16:00:00.113Z  \n",
      "2    2024-03-24T15:55:00.157Z  \n",
      "3    2024-03-24T15:55:00.157Z  \n",
      "4    2024-03-24T15:55:00.157Z  \n",
      "..                        ...  \n",
      "895  2024-03-19T14:35:11.900Z  \n",
      "896  2024-03-19T14:05:00.407Z  \n",
      "897  2024-03-19T14:05:00.407Z  \n",
      "898  2024-03-19T14:05:00.407Z  \n",
      "899  2024-03-19T14:05:00.407Z  \n",
      "\n",
      "[900 rows x 5 columns]\n"
     ]
    }
   ],
   "source": [
    "import requests\n",
    "import json\n",
    "import pandas as pd\n",
    "\n",
    "url = 'https://job-search-api.efinancialcareers.com/v1/efc/jobs/search'\n",
    "headers = {\n",
    "    'User-Agent': 'Mozilla/5.0 (Macintosh; Intel Mac OS X 10.15; rv:123.0) Gecko/20100101 Firefox/123.0',\n",
    "    'Accept': 'application/json, text/plain, */*',\n",
    "    'Accept-Language': 'en-US,en;q=0.5',\n",
    "    'Accept-Encoding': 'gzip, deflate, br',\n",
    "    'Content-Type': 'application/json',\n",
    "    'x-api-key': 'zvDFWwKGZ07cpXWV37lpO5MTEzXbHgyL4rKXb39C',\n",
    "    'Origin': 'https://www.efinancialcareers.com',\n",
    "    'Connection': 'keep-alive',\n",
    "    'Referer': 'https://www.efinancialcareers.com/',\n",
    "    'TE': 'trailers'\n",
    "}\n",
    "\n",
    "params = {\n",
    "    'countryCode2': 'US',\n",
    "    'radius': 50,\n",
    "    'radiusUnit': 'mi',\n",
    "    'page': 1,\n",
    "    'pageSize': 900,\n",
    "    'searchId': 'e6b131fe-967c-4014-9e23-c1afb0fc088d',\n",
    "    'facets': 'locationPath|salaryRange|sectors|employmentType|experienceLevel|workArrangementType|salaryCurrency|minSalary|maxSalary|positionType|postedDate|clientBrandNameFilter',\n",
    "    'currencyCode': 'USD',\n",
    "    'culture': 'en',\n",
    "    'recommendations': 'true',\n",
    "    'fj': 'false',\n",
    "    'includeRemote': 'true',\n",
    "    'includeUnspecifiedSalary': 'true'\n",
    "}\n",
    "\n",
    "response = requests.get(url, headers=headers, params=params)\n",
    "data = response.json()\n",
    "#print(type(data))\n",
    "#print(data.keys())\n",
    "\n",
    "\n",
    "job_data = []\n",
    "\n",
    "for item in data['data']:\n",
    "    job_info = {\n",
    "        'job_title': item['title'],\n",
    "        'location': item['jobLocation']['city'],\n",
    "        'salary': item['salary'],\n",
    "        'employmentType': item['employmentType'],\n",
    "        #'date': item['expirationDate'],\n",
    "        #'id': item['id'],\n",
    "        #'detailsPageUrl': item['detailsPageUrl'],\n",
    "        #'state': item['jobLocation']['state'],\n",
    "        #'country': item['jobLocation']['country'],\n",
    "        'date': item['postedDate'],\n",
    "        #'workArrangementType': item.get('workArrangementType', None),  \n",
    "        #'isExternalApplication': item['isExternalApplication'],\n",
    "        #'summary': item['summary'],\n",
    "        #'description': item['description']\n",
    "    }\n",
    "    job_data.append(job_info)\n",
    "\n",
    "\n",
    "df = pd.DataFrame(job_data)\n",
    "\n",
    "print(df)\n"
   ]
  }
 ],
 "metadata": {
  "kernelspec": {
   "display_name": "Python 3",
   "language": "python",
   "name": "python3"
  },
  "language_info": {
   "codemirror_mode": {
    "name": "ipython",
    "version": 3
   },
   "file_extension": ".py",
   "mimetype": "text/x-python",
   "name": "python",
   "nbconvert_exporter": "python",
   "pygments_lexer": "ipython3",
   "version": "3.8.5"
  }
 },
 "nbformat": 4,
 "nbformat_minor": 4
}
